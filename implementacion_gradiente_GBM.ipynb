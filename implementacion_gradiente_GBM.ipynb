{
  "nbformat": 4,
  "nbformat_minor": 0,
  "metadata": {
    "colab": {
      "provenance": [],
      "toc_visible": true,
      "mount_file_id": "1SKa6S5G9YC5CsvwywilwNebdkl1BLRdC",
      "authorship_tag": "ABX9TyPBo5o68BpJmiGVbmD1qqZx",
      "include_colab_link": true
    },
    "kernelspec": {
      "name": "python3",
      "display_name": "Python 3"
    },
    "language_info": {
      "name": "python"
    }
  },
  "cells": [
    {
      "cell_type": "markdown",
      "metadata": {
        "id": "view-in-github",
        "colab_type": "text"
      },
      "source": [
        "<a href=\"https://colab.research.google.com/github/alexanderbeleno16/implementacion_gradiente_gbm/blob/main/implementacion_gradiente_GBM.ipynb\" target=\"_parent\"><img src=\"https://colab.research.google.com/assets/colab-badge.svg\" alt=\"Open In Colab\"/></a>"
      ]
    },
    {
      "cell_type": "markdown",
      "source": [
        "# **IMPLEMENTACIÓN**\n",
        "\n",
        "# **TEMA: GRADIENTE Ó GBM**\n",
        "\n",
        "## CORPORACIÓN UNIVERSITARIA LATINOAMERICANA\n",
        "\n",
        "### PRESENTADO POR:\n",
        "\n",
        "### ALEXANDER BELEÑO, VANESSA BAENA, ANDREA ORELLANO, STIVEN MORALES\n"
      ],
      "metadata": {
        "id": "aote-4ApClK1"
      }
    },
    {
      "cell_type": "markdown",
      "source": [
        "## **INFORMACIÓN RELACIONADA AL DATASET**\n",
        "\n",
        "\n",
        "El dataset proporciona información sobre las tarifas y costos de la energía eléctrica ofrecidos por Empresas Públicas de Medellín E.S.P. (EPM) en el mercado regulado. Cubre el periodo de diciembre de 2016 a diciembre de 2021."
      ],
      "metadata": {
        "id": "0ajMSwcKSKP5"
      }
    },
    {
      "cell_type": "markdown",
      "source": [
        "## **REFERENCIA DEL DATASET**\n",
        "https://www.datos.gov.co/Funci-n-p-blica/Tarifas-para-Servicios-de-Energ-a-EPM/sfcd-b3ey/data_preview\n"
      ],
      "metadata": {
        "id": "Sh9yck3oN60Y"
      }
    },
    {
      "cell_type": "markdown",
      "source": [
        "## **IMPORTACIÓN DE LIBRERIAS**\n",
        "En esta sección del código se realizan las importaciones correspondientes a cada librería que permitiran la realización exitosa de la lectura y el tratamiento de los datos del archivo \".csv\"."
      ],
      "metadata": {
        "id": "TE9bjXMUEzbV"
      }
    },
    {
      "cell_type": "code",
      "execution_count": 190,
      "metadata": {
        "id": "Y09becwgCjnm"
      },
      "outputs": [],
      "source": [
        "import pandas as pd\n",
        "import numpy as np\n",
        "import matplotlib.pyplot as plt\n",
        "\n",
        "# Normalización\n",
        "from sklearn.preprocessing import MinMaxScaler\n",
        "\n",
        "# Pruebas y Entrenamiento\n",
        "from sklearn.model_selection import train_test_split\n",
        "\n",
        "# Aplicar Modelo Gradient(GBM)\n",
        "from sklearn.ensemble import GradientBoostingClassifier\n",
        "from sklearn.metrics import classification_report, confusion_matrix\n"
      ]
    },
    {
      "cell_type": "markdown",
      "source": [
        "\n",
        "**Pandas (pd):** Para manipulación y análisis de datos, nos ofrece los dataframe.\n",
        "\n",
        "**NumPy (np):** Para operaciones Matematicas/numéricas.\n",
        "\n",
        "**Matplotlib.pyplot (plt):** Para crear gráficos/visualizaciones de datos.\n",
        "\n",
        "\n",
        "\n",
        "**MinMaxScaler:** Para realizar la Normalización.\n",
        "\n",
        "**train_test_split:** Para realizar las pruebas y Entrenamiento.\n",
        "\n",
        "**GradientBoostingClassifier, classification_report, confusion_matrix:** Para aplicar el modelo Gradient(GBM)."
      ],
      "metadata": {
        "id": "0Al1j2LC8F1L"
      }
    },
    {
      "cell_type": "markdown",
      "source": [
        "## **CARGUE Y LECTURA DEL ARCHIVO CSV**\n",
        "En esta sección del código se carga los datos del archivo CSV en un objeto llamado data_frame"
      ],
      "metadata": {
        "id": "FA2I_H5FHYnI"
      }
    },
    {
      "cell_type": "code",
      "source": [
        "data_frame = pd.read_csv('drive/MyDrive/files/Tarifas_para_Servicios_de_Energia_EPM.csv')"
      ],
      "metadata": {
        "id": "d3HD2lI3HqsX"
      },
      "execution_count": 191,
      "outputs": []
    },
    {
      "cell_type": "markdown",
      "source": [
        "## **Métodos básicos para el análisis de la información**"
      ],
      "metadata": {
        "id": "VQVkJdmcAe9J"
      }
    },
    {
      "cell_type": "markdown",
      "source": [
        "### **info()**\n",
        "Proporciona información sobre el DataFrame, incluyendo el número de filas y columnas, los tipos de datos en cada columna y la cantidad de memoria utilizada."
      ],
      "metadata": {
        "id": "m4kWkBbdAs26"
      }
    },
    {
      "cell_type": "code",
      "source": [
        "data_frame.info()"
      ],
      "metadata": {
        "colab": {
          "base_uri": "https://localhost:8080/"
        },
        "id": "TcEOfdkPA4Rf",
        "outputId": "91ba4ad7-f556-4b39-cff1-c326903f84db"
      },
      "execution_count": 192,
      "outputs": [
        {
          "output_type": "stream",
          "name": "stdout",
          "text": [
            "<class 'pandas.core.frame.DataFrame'>\n",
            "RangeIndex: 3622 entries, 0 to 3621\n",
            "Data columns (total 12 columns):\n",
            " #   Column                 Non-Null Count  Dtype  \n",
            "---  ------                 --------------  -----  \n",
            " 0   Tipo de Información    3622 non-null   object \n",
            " 1   Tipo de Tarifa         3622 non-null   object \n",
            " 2   Tipo de Dato           3622 non-null   object \n",
            " 3   Rango de Consumo       1480 non-null   object \n",
            " 4   Nivel                  3622 non-null   object \n",
            " 5   Propiedad Epm          3621 non-null   float64\n",
            " 6   Compartido             3621 non-null   float64\n",
            " 7   Propiedad del Cliente  3621 non-null   float64\n",
            " 8   Punta                  3621 non-null   float64\n",
            " 9   Fuera de Punta         3621 non-null   float64\n",
            " 10  Año                    3621 non-null   float64\n",
            " 11  Mes                    3621 non-null   object \n",
            "dtypes: float64(6), object(6)\n",
            "memory usage: 339.7+ KB\n"
          ]
        }
      ]
    },
    {
      "cell_type": "markdown",
      "source": [
        "### **describe()**\n",
        "Calcula estadísticas descriptivas para cada columna numérica, como media, desviación estándar, mínimo, máximo, etc."
      ],
      "metadata": {
        "id": "XaznCAzUAxdd"
      }
    },
    {
      "cell_type": "code",
      "source": [
        "data_frame.describe()"
      ],
      "metadata": {
        "colab": {
          "base_uri": "https://localhost:8080/",
          "height": 300
        },
        "id": "HJsZnXPwDrjI",
        "outputId": "571819d2-99ab-47c6-8a02-cfe4ff6fc0bb"
      },
      "execution_count": 193,
      "outputs": [
        {
          "output_type": "execute_result",
          "data": {
            "text/plain": [
              "       Propiedad Epm     Compartido  Propiedad del Cliente         Punta  \\\n",
              "count    3621.000000    3621.000000            3621.000000   3621.000000   \n",
              "mean      178.890942     228.680370             165.393888     85.006319   \n",
              "std       236.586156    3413.972102             218.177223   1029.674587   \n",
              "min        -1.610000      -1.610000              -1.610000     -1.610000   \n",
              "25%         0.000000       0.000000               0.000000      0.000000   \n",
              "50%        35.200000      35.100000              35.200000      0.000000   \n",
              "75%       426.480000     414.620000             398.880000     39.750000   \n",
              "max       742.140000  205151.000000             681.960000  43577.000000   \n",
              "\n",
              "       Fuera de Punta          Año  \n",
              "count     3621.000000  3621.000000  \n",
              "mean        71.466929  2018.938415  \n",
              "std        734.070706     1.458379  \n",
              "min          0.000000  2016.000000  \n",
              "25%          0.000000  2018.000000  \n",
              "50%          0.000000  2019.000000  \n",
              "75%         36.950000  2020.000000  \n",
              "max      43577.000000  2021.000000  "
            ],
            "text/html": [
              "\n",
              "  <div id=\"df-cc3eabba-468e-4bb0-8898-b3b077255cf9\" class=\"colab-df-container\">\n",
              "    <div>\n",
              "<style scoped>\n",
              "    .dataframe tbody tr th:only-of-type {\n",
              "        vertical-align: middle;\n",
              "    }\n",
              "\n",
              "    .dataframe tbody tr th {\n",
              "        vertical-align: top;\n",
              "    }\n",
              "\n",
              "    .dataframe thead th {\n",
              "        text-align: right;\n",
              "    }\n",
              "</style>\n",
              "<table border=\"1\" class=\"dataframe\">\n",
              "  <thead>\n",
              "    <tr style=\"text-align: right;\">\n",
              "      <th></th>\n",
              "      <th>Propiedad Epm</th>\n",
              "      <th>Compartido</th>\n",
              "      <th>Propiedad del Cliente</th>\n",
              "      <th>Punta</th>\n",
              "      <th>Fuera de Punta</th>\n",
              "      <th>Año</th>\n",
              "    </tr>\n",
              "  </thead>\n",
              "  <tbody>\n",
              "    <tr>\n",
              "      <th>count</th>\n",
              "      <td>3621.000000</td>\n",
              "      <td>3621.000000</td>\n",
              "      <td>3621.000000</td>\n",
              "      <td>3621.000000</td>\n",
              "      <td>3621.000000</td>\n",
              "      <td>3621.000000</td>\n",
              "    </tr>\n",
              "    <tr>\n",
              "      <th>mean</th>\n",
              "      <td>178.890942</td>\n",
              "      <td>228.680370</td>\n",
              "      <td>165.393888</td>\n",
              "      <td>85.006319</td>\n",
              "      <td>71.466929</td>\n",
              "      <td>2018.938415</td>\n",
              "    </tr>\n",
              "    <tr>\n",
              "      <th>std</th>\n",
              "      <td>236.586156</td>\n",
              "      <td>3413.972102</td>\n",
              "      <td>218.177223</td>\n",
              "      <td>1029.674587</td>\n",
              "      <td>734.070706</td>\n",
              "      <td>1.458379</td>\n",
              "    </tr>\n",
              "    <tr>\n",
              "      <th>min</th>\n",
              "      <td>-1.610000</td>\n",
              "      <td>-1.610000</td>\n",
              "      <td>-1.610000</td>\n",
              "      <td>-1.610000</td>\n",
              "      <td>0.000000</td>\n",
              "      <td>2016.000000</td>\n",
              "    </tr>\n",
              "    <tr>\n",
              "      <th>25%</th>\n",
              "      <td>0.000000</td>\n",
              "      <td>0.000000</td>\n",
              "      <td>0.000000</td>\n",
              "      <td>0.000000</td>\n",
              "      <td>0.000000</td>\n",
              "      <td>2018.000000</td>\n",
              "    </tr>\n",
              "    <tr>\n",
              "      <th>50%</th>\n",
              "      <td>35.200000</td>\n",
              "      <td>35.100000</td>\n",
              "      <td>35.200000</td>\n",
              "      <td>0.000000</td>\n",
              "      <td>0.000000</td>\n",
              "      <td>2019.000000</td>\n",
              "    </tr>\n",
              "    <tr>\n",
              "      <th>75%</th>\n",
              "      <td>426.480000</td>\n",
              "      <td>414.620000</td>\n",
              "      <td>398.880000</td>\n",
              "      <td>39.750000</td>\n",
              "      <td>36.950000</td>\n",
              "      <td>2020.000000</td>\n",
              "    </tr>\n",
              "    <tr>\n",
              "      <th>max</th>\n",
              "      <td>742.140000</td>\n",
              "      <td>205151.000000</td>\n",
              "      <td>681.960000</td>\n",
              "      <td>43577.000000</td>\n",
              "      <td>43577.000000</td>\n",
              "      <td>2021.000000</td>\n",
              "    </tr>\n",
              "  </tbody>\n",
              "</table>\n",
              "</div>\n",
              "    <div class=\"colab-df-buttons\">\n",
              "\n",
              "  <div class=\"colab-df-container\">\n",
              "    <button class=\"colab-df-convert\" onclick=\"convertToInteractive('df-cc3eabba-468e-4bb0-8898-b3b077255cf9')\"\n",
              "            title=\"Convert this dataframe to an interactive table.\"\n",
              "            style=\"display:none;\">\n",
              "\n",
              "  <svg xmlns=\"http://www.w3.org/2000/svg\" height=\"24px\" viewBox=\"0 -960 960 960\">\n",
              "    <path d=\"M120-120v-720h720v720H120Zm60-500h600v-160H180v160Zm220 220h160v-160H400v160Zm0 220h160v-160H400v160ZM180-400h160v-160H180v160Zm440 0h160v-160H620v160ZM180-180h160v-160H180v160Zm440 0h160v-160H620v160Z\"/>\n",
              "  </svg>\n",
              "    </button>\n",
              "\n",
              "  <style>\n",
              "    .colab-df-container {\n",
              "      display:flex;\n",
              "      gap: 12px;\n",
              "    }\n",
              "\n",
              "    .colab-df-convert {\n",
              "      background-color: #E8F0FE;\n",
              "      border: none;\n",
              "      border-radius: 50%;\n",
              "      cursor: pointer;\n",
              "      display: none;\n",
              "      fill: #1967D2;\n",
              "      height: 32px;\n",
              "      padding: 0 0 0 0;\n",
              "      width: 32px;\n",
              "    }\n",
              "\n",
              "    .colab-df-convert:hover {\n",
              "      background-color: #E2EBFA;\n",
              "      box-shadow: 0px 1px 2px rgba(60, 64, 67, 0.3), 0px 1px 3px 1px rgba(60, 64, 67, 0.15);\n",
              "      fill: #174EA6;\n",
              "    }\n",
              "\n",
              "    .colab-df-buttons div {\n",
              "      margin-bottom: 4px;\n",
              "    }\n",
              "\n",
              "    [theme=dark] .colab-df-convert {\n",
              "      background-color: #3B4455;\n",
              "      fill: #D2E3FC;\n",
              "    }\n",
              "\n",
              "    [theme=dark] .colab-df-convert:hover {\n",
              "      background-color: #434B5C;\n",
              "      box-shadow: 0px 1px 3px 1px rgba(0, 0, 0, 0.15);\n",
              "      filter: drop-shadow(0px 1px 2px rgba(0, 0, 0, 0.3));\n",
              "      fill: #FFFFFF;\n",
              "    }\n",
              "  </style>\n",
              "\n",
              "    <script>\n",
              "      const buttonEl =\n",
              "        document.querySelector('#df-cc3eabba-468e-4bb0-8898-b3b077255cf9 button.colab-df-convert');\n",
              "      buttonEl.style.display =\n",
              "        google.colab.kernel.accessAllowed ? 'block' : 'none';\n",
              "\n",
              "      async function convertToInteractive(key) {\n",
              "        const element = document.querySelector('#df-cc3eabba-468e-4bb0-8898-b3b077255cf9');\n",
              "        const dataTable =\n",
              "          await google.colab.kernel.invokeFunction('convertToInteractive',\n",
              "                                                    [key], {});\n",
              "        if (!dataTable) return;\n",
              "\n",
              "        const docLinkHtml = 'Like what you see? Visit the ' +\n",
              "          '<a target=\"_blank\" href=https://colab.research.google.com/notebooks/data_table.ipynb>data table notebook</a>'\n",
              "          + ' to learn more about interactive tables.';\n",
              "        element.innerHTML = '';\n",
              "        dataTable['output_type'] = 'display_data';\n",
              "        await google.colab.output.renderOutput(dataTable, element);\n",
              "        const docLink = document.createElement('div');\n",
              "        docLink.innerHTML = docLinkHtml;\n",
              "        element.appendChild(docLink);\n",
              "      }\n",
              "    </script>\n",
              "  </div>\n",
              "\n",
              "\n",
              "<div id=\"df-da794e69-37f8-4548-97d6-815c50a8986c\">\n",
              "  <button class=\"colab-df-quickchart\" onclick=\"quickchart('df-da794e69-37f8-4548-97d6-815c50a8986c')\"\n",
              "            title=\"Suggest charts\"\n",
              "            style=\"display:none;\">\n",
              "\n",
              "<svg xmlns=\"http://www.w3.org/2000/svg\" height=\"24px\"viewBox=\"0 0 24 24\"\n",
              "     width=\"24px\">\n",
              "    <g>\n",
              "        <path d=\"M19 3H5c-1.1 0-2 .9-2 2v14c0 1.1.9 2 2 2h14c1.1 0 2-.9 2-2V5c0-1.1-.9-2-2-2zM9 17H7v-7h2v7zm4 0h-2V7h2v10zm4 0h-2v-4h2v4z\"/>\n",
              "    </g>\n",
              "</svg>\n",
              "  </button>\n",
              "\n",
              "<style>\n",
              "  .colab-df-quickchart {\n",
              "      --bg-color: #E8F0FE;\n",
              "      --fill-color: #1967D2;\n",
              "      --hover-bg-color: #E2EBFA;\n",
              "      --hover-fill-color: #174EA6;\n",
              "      --disabled-fill-color: #AAA;\n",
              "      --disabled-bg-color: #DDD;\n",
              "  }\n",
              "\n",
              "  [theme=dark] .colab-df-quickchart {\n",
              "      --bg-color: #3B4455;\n",
              "      --fill-color: #D2E3FC;\n",
              "      --hover-bg-color: #434B5C;\n",
              "      --hover-fill-color: #FFFFFF;\n",
              "      --disabled-bg-color: #3B4455;\n",
              "      --disabled-fill-color: #666;\n",
              "  }\n",
              "\n",
              "  .colab-df-quickchart {\n",
              "    background-color: var(--bg-color);\n",
              "    border: none;\n",
              "    border-radius: 50%;\n",
              "    cursor: pointer;\n",
              "    display: none;\n",
              "    fill: var(--fill-color);\n",
              "    height: 32px;\n",
              "    padding: 0;\n",
              "    width: 32px;\n",
              "  }\n",
              "\n",
              "  .colab-df-quickchart:hover {\n",
              "    background-color: var(--hover-bg-color);\n",
              "    box-shadow: 0 1px 2px rgba(60, 64, 67, 0.3), 0 1px 3px 1px rgba(60, 64, 67, 0.15);\n",
              "    fill: var(--button-hover-fill-color);\n",
              "  }\n",
              "\n",
              "  .colab-df-quickchart-complete:disabled,\n",
              "  .colab-df-quickchart-complete:disabled:hover {\n",
              "    background-color: var(--disabled-bg-color);\n",
              "    fill: var(--disabled-fill-color);\n",
              "    box-shadow: none;\n",
              "  }\n",
              "\n",
              "  .colab-df-spinner {\n",
              "    border: 2px solid var(--fill-color);\n",
              "    border-color: transparent;\n",
              "    border-bottom-color: var(--fill-color);\n",
              "    animation:\n",
              "      spin 1s steps(1) infinite;\n",
              "  }\n",
              "\n",
              "  @keyframes spin {\n",
              "    0% {\n",
              "      border-color: transparent;\n",
              "      border-bottom-color: var(--fill-color);\n",
              "      border-left-color: var(--fill-color);\n",
              "    }\n",
              "    20% {\n",
              "      border-color: transparent;\n",
              "      border-left-color: var(--fill-color);\n",
              "      border-top-color: var(--fill-color);\n",
              "    }\n",
              "    30% {\n",
              "      border-color: transparent;\n",
              "      border-left-color: var(--fill-color);\n",
              "      border-top-color: var(--fill-color);\n",
              "      border-right-color: var(--fill-color);\n",
              "    }\n",
              "    40% {\n",
              "      border-color: transparent;\n",
              "      border-right-color: var(--fill-color);\n",
              "      border-top-color: var(--fill-color);\n",
              "    }\n",
              "    60% {\n",
              "      border-color: transparent;\n",
              "      border-right-color: var(--fill-color);\n",
              "    }\n",
              "    80% {\n",
              "      border-color: transparent;\n",
              "      border-right-color: var(--fill-color);\n",
              "      border-bottom-color: var(--fill-color);\n",
              "    }\n",
              "    90% {\n",
              "      border-color: transparent;\n",
              "      border-bottom-color: var(--fill-color);\n",
              "    }\n",
              "  }\n",
              "</style>\n",
              "\n",
              "  <script>\n",
              "    async function quickchart(key) {\n",
              "      const quickchartButtonEl =\n",
              "        document.querySelector('#' + key + ' button');\n",
              "      quickchartButtonEl.disabled = true;  // To prevent multiple clicks.\n",
              "      quickchartButtonEl.classList.add('colab-df-spinner');\n",
              "      try {\n",
              "        const charts = await google.colab.kernel.invokeFunction(\n",
              "            'suggestCharts', [key], {});\n",
              "      } catch (error) {\n",
              "        console.error('Error during call to suggestCharts:', error);\n",
              "      }\n",
              "      quickchartButtonEl.classList.remove('colab-df-spinner');\n",
              "      quickchartButtonEl.classList.add('colab-df-quickchart-complete');\n",
              "    }\n",
              "    (() => {\n",
              "      let quickchartButtonEl =\n",
              "        document.querySelector('#df-da794e69-37f8-4548-97d6-815c50a8986c button');\n",
              "      quickchartButtonEl.style.display =\n",
              "        google.colab.kernel.accessAllowed ? 'block' : 'none';\n",
              "    })();\n",
              "  </script>\n",
              "</div>\n",
              "\n",
              "    </div>\n",
              "  </div>\n"
            ],
            "application/vnd.google.colaboratory.intrinsic+json": {
              "type": "dataframe",
              "summary": "{\n  \"name\": \"data_frame\",\n  \"rows\": 8,\n  \"fields\": [\n    {\n      \"column\": \"Propiedad Epm\",\n      \"properties\": {\n        \"dtype\": \"number\",\n        \"std\": 1224.9218206302248,\n        \"min\": -1.61,\n        \"max\": 3621.0,\n        \"num_unique_values\": 8,\n        \"samples\": [\n          178.8909417288042,\n          35.2,\n          3621.0\n        ],\n        \"semantic_type\": \"\",\n        \"description\": \"\"\n      }\n    },\n    {\n      \"column\": \"Compartido\",\n      \"properties\": {\n        \"dtype\": \"number\",\n        \"std\": 72158.66013827047,\n        \"min\": -1.61,\n        \"max\": 205151.0,\n        \"num_unique_values\": 8,\n        \"samples\": [\n          228.6803700635184,\n          35.1,\n          3621.0\n        ],\n        \"semantic_type\": \"\",\n        \"description\": \"\"\n      }\n    },\n    {\n      \"column\": \"Propiedad del Cliente\",\n      \"properties\": {\n        \"dtype\": \"number\",\n        \"std\": 1226.8712949142796,\n        \"min\": -1.61,\n        \"max\": 3621.0,\n        \"num_unique_values\": 8,\n        \"samples\": [\n          165.3938884286109,\n          35.2,\n          3621.0\n        ],\n        \"semantic_type\": \"\",\n        \"description\": \"\"\n      }\n    },\n    {\n      \"column\": \"Punta\",\n      \"properties\": {\n        \"dtype\": \"number\",\n        \"std\": 15217.050461357216,\n        \"min\": -1.61,\n        \"max\": 43577.0,\n        \"num_unique_values\": 7,\n        \"samples\": [\n          3621.0,\n          85.00631869649268,\n          39.75\n        ],\n        \"semantic_type\": \"\",\n        \"description\": \"\"\n      }\n    },\n    {\n      \"column\": \"Fuera de Punta\",\n      \"properties\": {\n        \"dtype\": \"number\",\n        \"std\": 15232.136357531625,\n        \"min\": 0.0,\n        \"max\": 43577.0,\n        \"num_unique_values\": 6,\n        \"samples\": [\n          3621.0,\n          71.46692902513118,\n          43577.0\n        ],\n        \"semantic_type\": \"\",\n        \"description\": \"\"\n      }\n    },\n    {\n      \"column\": \"A\\u00f1o\",\n      \"properties\": {\n        \"dtype\": \"number\",\n        \"std\": 972.1256839288905,\n        \"min\": 1.4583789628083779,\n        \"max\": 3621.0,\n        \"num_unique_values\": 8,\n        \"samples\": [\n          2018.9384148025408,\n          2019.0,\n          3621.0\n        ],\n        \"semantic_type\": \"\",\n        \"description\": \"\"\n      }\n    }\n  ]\n}"
            }
          },
          "metadata": {},
          "execution_count": 193
        }
      ]
    },
    {
      "cell_type": "markdown",
      "source": [
        "### **head()**\n",
        "Muestra las primeras filas del DataFrame, lo que permite una vista previa rápida de los datos."
      ],
      "metadata": {
        "id": "oKfwszE9AyXh"
      }
    },
    {
      "cell_type": "code",
      "source": [
        "data_frame.head()"
      ],
      "metadata": {
        "colab": {
          "base_uri": "https://localhost:8080/",
          "height": 206
        },
        "id": "YPTQifSZDsQ_",
        "outputId": "5bb1b723-1651-4578-ecff-83d9d59b845c"
      },
      "execution_count": 194,
      "outputs": [
        {
          "output_type": "execute_result",
          "data": {
            "text/plain": [
              "  Tipo de Información Tipo de Tarifa Tipo de Dato Rango de Consumo Nivel  \\\n",
              "0             Monomia    Residencial    Estrato 1     Rango 0 - CS     I   \n",
              "1             Monomia    Residencial    Estrato 1       Rango > CS     I   \n",
              "2             Monomia    Residencial    Estrato 2     Rango 0 - CS     I   \n",
              "3             Monomia    Residencial    Estrato 2       Rango > CS     I   \n",
              "4             Monomia    Residencial    Estrato 3     Rango 0 - CS     I   \n",
              "\n",
              "   Propiedad Epm  Compartido  Propiedad del Cliente  Punta  Fuera de Punta  \\\n",
              "0         228.08      218.81                 209.54    0.0             0.0   \n",
              "1         570.20      547.02                 523.85    0.0             0.0   \n",
              "2         285.10      273.51                 261.92    0.0             0.0   \n",
              "3         570.20      547.02                 523.85    0.0             0.0   \n",
              "4         484.67      464.97                 445.27    0.0             0.0   \n",
              "\n",
              "      Año        Mes  \n",
              "0  2020.0  Diciembre  \n",
              "1  2020.0  Diciembre  \n",
              "2  2020.0  Diciembre  \n",
              "3  2020.0  Diciembre  \n",
              "4  2020.0  Diciembre  "
            ],
            "text/html": [
              "\n",
              "  <div id=\"df-441a2085-2527-48fc-9497-799ecc7622fb\" class=\"colab-df-container\">\n",
              "    <div>\n",
              "<style scoped>\n",
              "    .dataframe tbody tr th:only-of-type {\n",
              "        vertical-align: middle;\n",
              "    }\n",
              "\n",
              "    .dataframe tbody tr th {\n",
              "        vertical-align: top;\n",
              "    }\n",
              "\n",
              "    .dataframe thead th {\n",
              "        text-align: right;\n",
              "    }\n",
              "</style>\n",
              "<table border=\"1\" class=\"dataframe\">\n",
              "  <thead>\n",
              "    <tr style=\"text-align: right;\">\n",
              "      <th></th>\n",
              "      <th>Tipo de Información</th>\n",
              "      <th>Tipo de Tarifa</th>\n",
              "      <th>Tipo de Dato</th>\n",
              "      <th>Rango de Consumo</th>\n",
              "      <th>Nivel</th>\n",
              "      <th>Propiedad Epm</th>\n",
              "      <th>Compartido</th>\n",
              "      <th>Propiedad del Cliente</th>\n",
              "      <th>Punta</th>\n",
              "      <th>Fuera de Punta</th>\n",
              "      <th>Año</th>\n",
              "      <th>Mes</th>\n",
              "    </tr>\n",
              "  </thead>\n",
              "  <tbody>\n",
              "    <tr>\n",
              "      <th>0</th>\n",
              "      <td>Monomia</td>\n",
              "      <td>Residencial</td>\n",
              "      <td>Estrato 1</td>\n",
              "      <td>Rango 0 - CS</td>\n",
              "      <td>I</td>\n",
              "      <td>228.08</td>\n",
              "      <td>218.81</td>\n",
              "      <td>209.54</td>\n",
              "      <td>0.0</td>\n",
              "      <td>0.0</td>\n",
              "      <td>2020.0</td>\n",
              "      <td>Diciembre</td>\n",
              "    </tr>\n",
              "    <tr>\n",
              "      <th>1</th>\n",
              "      <td>Monomia</td>\n",
              "      <td>Residencial</td>\n",
              "      <td>Estrato 1</td>\n",
              "      <td>Rango &gt; CS</td>\n",
              "      <td>I</td>\n",
              "      <td>570.20</td>\n",
              "      <td>547.02</td>\n",
              "      <td>523.85</td>\n",
              "      <td>0.0</td>\n",
              "      <td>0.0</td>\n",
              "      <td>2020.0</td>\n",
              "      <td>Diciembre</td>\n",
              "    </tr>\n",
              "    <tr>\n",
              "      <th>2</th>\n",
              "      <td>Monomia</td>\n",
              "      <td>Residencial</td>\n",
              "      <td>Estrato 2</td>\n",
              "      <td>Rango 0 - CS</td>\n",
              "      <td>I</td>\n",
              "      <td>285.10</td>\n",
              "      <td>273.51</td>\n",
              "      <td>261.92</td>\n",
              "      <td>0.0</td>\n",
              "      <td>0.0</td>\n",
              "      <td>2020.0</td>\n",
              "      <td>Diciembre</td>\n",
              "    </tr>\n",
              "    <tr>\n",
              "      <th>3</th>\n",
              "      <td>Monomia</td>\n",
              "      <td>Residencial</td>\n",
              "      <td>Estrato 2</td>\n",
              "      <td>Rango &gt; CS</td>\n",
              "      <td>I</td>\n",
              "      <td>570.20</td>\n",
              "      <td>547.02</td>\n",
              "      <td>523.85</td>\n",
              "      <td>0.0</td>\n",
              "      <td>0.0</td>\n",
              "      <td>2020.0</td>\n",
              "      <td>Diciembre</td>\n",
              "    </tr>\n",
              "    <tr>\n",
              "      <th>4</th>\n",
              "      <td>Monomia</td>\n",
              "      <td>Residencial</td>\n",
              "      <td>Estrato 3</td>\n",
              "      <td>Rango 0 - CS</td>\n",
              "      <td>I</td>\n",
              "      <td>484.67</td>\n",
              "      <td>464.97</td>\n",
              "      <td>445.27</td>\n",
              "      <td>0.0</td>\n",
              "      <td>0.0</td>\n",
              "      <td>2020.0</td>\n",
              "      <td>Diciembre</td>\n",
              "    </tr>\n",
              "  </tbody>\n",
              "</table>\n",
              "</div>\n",
              "    <div class=\"colab-df-buttons\">\n",
              "\n",
              "  <div class=\"colab-df-container\">\n",
              "    <button class=\"colab-df-convert\" onclick=\"convertToInteractive('df-441a2085-2527-48fc-9497-799ecc7622fb')\"\n",
              "            title=\"Convert this dataframe to an interactive table.\"\n",
              "            style=\"display:none;\">\n",
              "\n",
              "  <svg xmlns=\"http://www.w3.org/2000/svg\" height=\"24px\" viewBox=\"0 -960 960 960\">\n",
              "    <path d=\"M120-120v-720h720v720H120Zm60-500h600v-160H180v160Zm220 220h160v-160H400v160Zm0 220h160v-160H400v160ZM180-400h160v-160H180v160Zm440 0h160v-160H620v160ZM180-180h160v-160H180v160Zm440 0h160v-160H620v160Z\"/>\n",
              "  </svg>\n",
              "    </button>\n",
              "\n",
              "  <style>\n",
              "    .colab-df-container {\n",
              "      display:flex;\n",
              "      gap: 12px;\n",
              "    }\n",
              "\n",
              "    .colab-df-convert {\n",
              "      background-color: #E8F0FE;\n",
              "      border: none;\n",
              "      border-radius: 50%;\n",
              "      cursor: pointer;\n",
              "      display: none;\n",
              "      fill: #1967D2;\n",
              "      height: 32px;\n",
              "      padding: 0 0 0 0;\n",
              "      width: 32px;\n",
              "    }\n",
              "\n",
              "    .colab-df-convert:hover {\n",
              "      background-color: #E2EBFA;\n",
              "      box-shadow: 0px 1px 2px rgba(60, 64, 67, 0.3), 0px 1px 3px 1px rgba(60, 64, 67, 0.15);\n",
              "      fill: #174EA6;\n",
              "    }\n",
              "\n",
              "    .colab-df-buttons div {\n",
              "      margin-bottom: 4px;\n",
              "    }\n",
              "\n",
              "    [theme=dark] .colab-df-convert {\n",
              "      background-color: #3B4455;\n",
              "      fill: #D2E3FC;\n",
              "    }\n",
              "\n",
              "    [theme=dark] .colab-df-convert:hover {\n",
              "      background-color: #434B5C;\n",
              "      box-shadow: 0px 1px 3px 1px rgba(0, 0, 0, 0.15);\n",
              "      filter: drop-shadow(0px 1px 2px rgba(0, 0, 0, 0.3));\n",
              "      fill: #FFFFFF;\n",
              "    }\n",
              "  </style>\n",
              "\n",
              "    <script>\n",
              "      const buttonEl =\n",
              "        document.querySelector('#df-441a2085-2527-48fc-9497-799ecc7622fb button.colab-df-convert');\n",
              "      buttonEl.style.display =\n",
              "        google.colab.kernel.accessAllowed ? 'block' : 'none';\n",
              "\n",
              "      async function convertToInteractive(key) {\n",
              "        const element = document.querySelector('#df-441a2085-2527-48fc-9497-799ecc7622fb');\n",
              "        const dataTable =\n",
              "          await google.colab.kernel.invokeFunction('convertToInteractive',\n",
              "                                                    [key], {});\n",
              "        if (!dataTable) return;\n",
              "\n",
              "        const docLinkHtml = 'Like what you see? Visit the ' +\n",
              "          '<a target=\"_blank\" href=https://colab.research.google.com/notebooks/data_table.ipynb>data table notebook</a>'\n",
              "          + ' to learn more about interactive tables.';\n",
              "        element.innerHTML = '';\n",
              "        dataTable['output_type'] = 'display_data';\n",
              "        await google.colab.output.renderOutput(dataTable, element);\n",
              "        const docLink = document.createElement('div');\n",
              "        docLink.innerHTML = docLinkHtml;\n",
              "        element.appendChild(docLink);\n",
              "      }\n",
              "    </script>\n",
              "  </div>\n",
              "\n",
              "\n",
              "<div id=\"df-8f2c8411-cc6d-4c8a-948e-fcaec726e024\">\n",
              "  <button class=\"colab-df-quickchart\" onclick=\"quickchart('df-8f2c8411-cc6d-4c8a-948e-fcaec726e024')\"\n",
              "            title=\"Suggest charts\"\n",
              "            style=\"display:none;\">\n",
              "\n",
              "<svg xmlns=\"http://www.w3.org/2000/svg\" height=\"24px\"viewBox=\"0 0 24 24\"\n",
              "     width=\"24px\">\n",
              "    <g>\n",
              "        <path d=\"M19 3H5c-1.1 0-2 .9-2 2v14c0 1.1.9 2 2 2h14c1.1 0 2-.9 2-2V5c0-1.1-.9-2-2-2zM9 17H7v-7h2v7zm4 0h-2V7h2v10zm4 0h-2v-4h2v4z\"/>\n",
              "    </g>\n",
              "</svg>\n",
              "  </button>\n",
              "\n",
              "<style>\n",
              "  .colab-df-quickchart {\n",
              "      --bg-color: #E8F0FE;\n",
              "      --fill-color: #1967D2;\n",
              "      --hover-bg-color: #E2EBFA;\n",
              "      --hover-fill-color: #174EA6;\n",
              "      --disabled-fill-color: #AAA;\n",
              "      --disabled-bg-color: #DDD;\n",
              "  }\n",
              "\n",
              "  [theme=dark] .colab-df-quickchart {\n",
              "      --bg-color: #3B4455;\n",
              "      --fill-color: #D2E3FC;\n",
              "      --hover-bg-color: #434B5C;\n",
              "      --hover-fill-color: #FFFFFF;\n",
              "      --disabled-bg-color: #3B4455;\n",
              "      --disabled-fill-color: #666;\n",
              "  }\n",
              "\n",
              "  .colab-df-quickchart {\n",
              "    background-color: var(--bg-color);\n",
              "    border: none;\n",
              "    border-radius: 50%;\n",
              "    cursor: pointer;\n",
              "    display: none;\n",
              "    fill: var(--fill-color);\n",
              "    height: 32px;\n",
              "    padding: 0;\n",
              "    width: 32px;\n",
              "  }\n",
              "\n",
              "  .colab-df-quickchart:hover {\n",
              "    background-color: var(--hover-bg-color);\n",
              "    box-shadow: 0 1px 2px rgba(60, 64, 67, 0.3), 0 1px 3px 1px rgba(60, 64, 67, 0.15);\n",
              "    fill: var(--button-hover-fill-color);\n",
              "  }\n",
              "\n",
              "  .colab-df-quickchart-complete:disabled,\n",
              "  .colab-df-quickchart-complete:disabled:hover {\n",
              "    background-color: var(--disabled-bg-color);\n",
              "    fill: var(--disabled-fill-color);\n",
              "    box-shadow: none;\n",
              "  }\n",
              "\n",
              "  .colab-df-spinner {\n",
              "    border: 2px solid var(--fill-color);\n",
              "    border-color: transparent;\n",
              "    border-bottom-color: var(--fill-color);\n",
              "    animation:\n",
              "      spin 1s steps(1) infinite;\n",
              "  }\n",
              "\n",
              "  @keyframes spin {\n",
              "    0% {\n",
              "      border-color: transparent;\n",
              "      border-bottom-color: var(--fill-color);\n",
              "      border-left-color: var(--fill-color);\n",
              "    }\n",
              "    20% {\n",
              "      border-color: transparent;\n",
              "      border-left-color: var(--fill-color);\n",
              "      border-top-color: var(--fill-color);\n",
              "    }\n",
              "    30% {\n",
              "      border-color: transparent;\n",
              "      border-left-color: var(--fill-color);\n",
              "      border-top-color: var(--fill-color);\n",
              "      border-right-color: var(--fill-color);\n",
              "    }\n",
              "    40% {\n",
              "      border-color: transparent;\n",
              "      border-right-color: var(--fill-color);\n",
              "      border-top-color: var(--fill-color);\n",
              "    }\n",
              "    60% {\n",
              "      border-color: transparent;\n",
              "      border-right-color: var(--fill-color);\n",
              "    }\n",
              "    80% {\n",
              "      border-color: transparent;\n",
              "      border-right-color: var(--fill-color);\n",
              "      border-bottom-color: var(--fill-color);\n",
              "    }\n",
              "    90% {\n",
              "      border-color: transparent;\n",
              "      border-bottom-color: var(--fill-color);\n",
              "    }\n",
              "  }\n",
              "</style>\n",
              "\n",
              "  <script>\n",
              "    async function quickchart(key) {\n",
              "      const quickchartButtonEl =\n",
              "        document.querySelector('#' + key + ' button');\n",
              "      quickchartButtonEl.disabled = true;  // To prevent multiple clicks.\n",
              "      quickchartButtonEl.classList.add('colab-df-spinner');\n",
              "      try {\n",
              "        const charts = await google.colab.kernel.invokeFunction(\n",
              "            'suggestCharts', [key], {});\n",
              "      } catch (error) {\n",
              "        console.error('Error during call to suggestCharts:', error);\n",
              "      }\n",
              "      quickchartButtonEl.classList.remove('colab-df-spinner');\n",
              "      quickchartButtonEl.classList.add('colab-df-quickchart-complete');\n",
              "    }\n",
              "    (() => {\n",
              "      let quickchartButtonEl =\n",
              "        document.querySelector('#df-8f2c8411-cc6d-4c8a-948e-fcaec726e024 button');\n",
              "      quickchartButtonEl.style.display =\n",
              "        google.colab.kernel.accessAllowed ? 'block' : 'none';\n",
              "    })();\n",
              "  </script>\n",
              "</div>\n",
              "\n",
              "    </div>\n",
              "  </div>\n"
            ],
            "application/vnd.google.colaboratory.intrinsic+json": {
              "type": "dataframe",
              "variable_name": "data_frame",
              "summary": "{\n  \"name\": \"data_frame\",\n  \"rows\": 3622,\n  \"fields\": [\n    {\n      \"column\": \"Tipo de Informaci\\u00f3n\",\n      \"properties\": {\n        \"dtype\": \"category\",\n        \"num_unique_values\": 2,\n        \"samples\": [\n          \"Horaria\",\n          \"Monomia\"\n        ],\n        \"semantic_type\": \"\",\n        \"description\": \"\"\n      }\n    },\n    {\n      \"column\": \"Tipo de Tarifa\",\n      \"properties\": {\n        \"dtype\": \"category\",\n        \"num_unique_values\": 6,\n        \"samples\": [\n          \"Residencial\",\n          \"No Residencial\"\n        ],\n        \"semantic_type\": \"\",\n        \"description\": \"\"\n      }\n    },\n    {\n      \"column\": \"Tipo de Dato\",\n      \"properties\": {\n        \"dtype\": \"category\",\n        \"num_unique_values\": 28,\n        \"samples\": [\n          \"Sin Contribuci\\u00f3n\",\n          \"CU CREG 158-2015\"\n        ],\n        \"semantic_type\": \"\",\n        \"description\": \"\"\n      }\n    },\n    {\n      \"column\": \"Rango de Consumo\",\n      \"properties\": {\n        \"dtype\": \"category\",\n        \"num_unique_values\": 7,\n        \"samples\": [\n          \"Rango 0 - CS\",\n          \"Rango > CS\"\n        ],\n        \"semantic_type\": \"\",\n        \"description\": \"\"\n      }\n    },\n    {\n      \"column\": \"Nivel\",\n      \"properties\": {\n        \"dtype\": \"category\",\n        \"num_unique_values\": 4,\n        \"samples\": [\n          \"II\",\n          \"IV\"\n        ],\n        \"semantic_type\": \"\",\n        \"description\": \"\"\n      }\n    },\n    {\n      \"column\": \"Propiedad Epm\",\n      \"properties\": {\n        \"dtype\": \"number\",\n        \"std\": 236.58615631349983,\n        \"min\": -1.61,\n        \"max\": 742.14,\n        \"num_unique_values\": 1304,\n        \"samples\": [\n          227.73,\n          180.73\n        ],\n        \"semantic_type\": \"\",\n        \"description\": \"\"\n      }\n    },\n    {\n      \"column\": \"Compartido\",\n      \"properties\": {\n        \"dtype\": \"number\",\n        \"std\": 3413.9721022942635,\n        \"min\": -1.61,\n        \"max\": 205151.0,\n        \"num_unique_values\": 1304,\n        \"samples\": [\n          227.73,\n          37.79\n        ],\n        \"semantic_type\": \"\",\n        \"description\": \"\"\n      }\n    },\n    {\n      \"column\": \"Propiedad del Cliente\",\n      \"properties\": {\n        \"dtype\": \"number\",\n        \"std\": 218.17722267052537,\n        \"min\": -1.61,\n        \"max\": 681.96,\n        \"num_unique_values\": 1297,\n        \"samples\": [\n          563.4,\n          469.27\n        ],\n        \"semantic_type\": \"\",\n        \"description\": \"\"\n      }\n    },\n    {\n      \"column\": \"Punta\",\n      \"properties\": {\n        \"dtype\": \"number\",\n        \"std\": 1029.674586765377,\n        \"min\": -1.61,\n        \"max\": 43577.0,\n        \"num_unique_values\": 871,\n        \"samples\": [\n          7.17,\n          219.62\n        ],\n        \"semantic_type\": \"\",\n        \"description\": \"\"\n      }\n    },\n    {\n      \"column\": \"Fuera de Punta\",\n      \"properties\": {\n        \"dtype\": \"number\",\n        \"std\": 734.0707058500162,\n        \"min\": 0.0,\n        \"max\": 43577.0,\n        \"num_unique_values\": 884,\n        \"samples\": [\n          458.27,\n          427.47\n        ],\n        \"semantic_type\": \"\",\n        \"description\": \"\"\n      }\n    },\n    {\n      \"column\": \"A\\u00f1o\",\n      \"properties\": {\n        \"dtype\": \"number\",\n        \"std\": 1.4583789628083779,\n        \"min\": 2016.0,\n        \"max\": 2021.0,\n        \"num_unique_values\": 6,\n        \"samples\": [\n          2020.0,\n          2021.0\n        ],\n        \"semantic_type\": \"\",\n        \"description\": \"\"\n      }\n    },\n    {\n      \"column\": \"Mes\",\n      \"properties\": {\n        \"dtype\": \"category\",\n        \"num_unique_values\": 12,\n        \"samples\": [\n          \"Septiembre\",\n          \"Agosto\"\n        ],\n        \"semantic_type\": \"\",\n        \"description\": \"\"\n      }\n    }\n  ]\n}"
            }
          },
          "metadata": {},
          "execution_count": 194
        }
      ]
    },
    {
      "cell_type": "markdown",
      "source": [
        "### **unique()**\n",
        "Obtiene los valores unicos de una columna en especifico."
      ],
      "metadata": {
        "id": "c2eCEX4EFODQ"
      }
    },
    {
      "cell_type": "code",
      "source": [
        "data_frame['Mes'].unique()"
      ],
      "metadata": {
        "colab": {
          "base_uri": "https://localhost:8080/"
        },
        "outputId": "f075c7ff-ed3a-44ab-eeca-da50076117e2",
        "id": "6CTyrno9FODT"
      },
      "execution_count": 195,
      "outputs": [
        {
          "output_type": "execute_result",
          "data": {
            "text/plain": [
              "array(['Diciembre', 'Marzo', 'Enero', 'Mayo', 'Febrero', 'Julio', 'Abril',\n",
              "       'Noviembre', 'Junio', 'Agosto', 'Septiembre', 'Octubre', nan],\n",
              "      dtype=object)"
            ]
          },
          "metadata": {},
          "execution_count": 195
        }
      ]
    },
    {
      "cell_type": "markdown",
      "source": [
        "## **Gráficos**\n"
      ],
      "metadata": {
        "id": "_2mIWGcQFQRD"
      }
    },
    {
      "cell_type": "markdown",
      "source": [
        "### Gráfico de Bigote"
      ],
      "metadata": {
        "id": "WiOzKv9kXN4m"
      }
    },
    {
      "cell_type": "code",
      "source": [
        "data_frame.boxplot(column='Propiedad del Cliente')\n",
        "plt.title('CAJA DE BIGOTE ($ Propiedad del Cliente)')\n",
        "# plt.ylabel('Registros')\n",
        "plt.show()"
      ],
      "metadata": {
        "id": "lIgDV1h8FQRE",
        "colab": {
          "base_uri": "https://localhost:8080/",
          "height": 452
        },
        "outputId": "08e17d0b-5b1c-47fe-8078-7ad5d2ce27be"
      },
      "execution_count": 196,
      "outputs": [
        {
          "output_type": "display_data",
          "data": {
            "text/plain": [
              "<Figure size 640x480 with 1 Axes>"
            ],
            "image/png": "[encoded data removed]"
          },
          "metadata": {}
        }
      ]
    },
    {
      "cell_type": "markdown",
      "source": [
        "Partes del diagrama:\n",
        "\n",
        "**Caja:** La caja representa el intercuartil (IQR), que abarca el 50% central de los datos.\n",
        "\n",
        "**Línea media:** La línea media dentro de la caja representa la mediana, que es el valor que divide al conjunto de datos en dos mitades iguales.\n",
        "\n",
        "**Bigotes:** Los bigotes se extienden desde la caja hasta el máximo y el mínimo de los datos, excluyendo los valores atípicos.\n",
        "\n",
        "**Valores atípicos:** Los puntos fuera de los bigotes se consideran valores atípicos.\n",
        "\n",
        "Conclusiones:\n",
        "\n",
        "- La mayoría de 'Prodiedad del cliente' está entre $200 y $700.\n",
        "- Hay algunos 'Prodiedad del cliente' significativamente mayor que la mayoría."
      ],
      "metadata": {
        "id": "_sQyqUBNADaz"
      }
    },
    {
      "cell_type": "markdown",
      "source": [
        "### Histograma"
      ],
      "metadata": {
        "id": "RJXPPf7na1L6"
      }
    },
    {
      "cell_type": "code",
      "source": [
        "data_frame.loc[:, 'Propiedad del Cliente'].hist(bins=10)\n",
        "plt.show()"
      ],
      "metadata": {
        "colab": {
          "base_uri": "https://localhost:8080/",
          "height": 430
        },
        "id": "5kNr7RgebPsH",
        "outputId": "1eb9cdd0-54da-46df-bad3-180df3637727"
      },
      "execution_count": 197,
      "outputs": [
        {
          "output_type": "display_data",
          "data": {
            "text/plain": [
              "<Figure size 640x480 with 1 Axes>"
            ],
            "image/png": "[encoded data removed]"
          },
          "metadata": {}
        }
      ]
    },
    {
      "cell_type": "markdown",
      "source": [
        "Partes del histograma:\n",
        "\n",
        "- Eje horizontal: Representa el valor de la propiedad del cliente.\n",
        "- Eje vertical: Representa la frecuencia de cada valor de la propiedad del cliente.\n",
        "- Barras: Cada barra representa la frecuencia de un rango de valores de la propiedad del cliente.\n",
        "\n",
        "Conclusiones:\n",
        "\n",
        "- La mayoría de 'Prodiedad del cliente' tienen un valor de cero.\n",
        "- Algunos clientes tienen 'Prodiedad del cliente' menor a $500."
      ],
      "metadata": {
        "id": "QPKiCCHjP6Bg"
      }
    },
    {
      "cell_type": "markdown",
      "source": [
        "## Valores Faltantes/Nulos\n",
        "Se obtiene por columna la cantidad de registros con valores nulos"
      ],
      "metadata": {
        "id": "WNcRuINQbs2-"
      }
    },
    {
      "cell_type": "code",
      "source": [
        "print(data_frame.isnull().sum())"
      ],
      "metadata": {
        "colab": {
          "base_uri": "https://localhost:8080/"
        },
        "id": "GjwtZ1Bqb8AQ",
        "outputId": "ed35c8e9-1742-4aa5-f4cf-f4f81d7a2021"
      },
      "execution_count": 198,
      "outputs": [
        {
          "output_type": "stream",
          "name": "stdout",
          "text": [
            "Tipo de Información         0\n",
            "Tipo de Tarifa              0\n",
            "Tipo de Dato                0\n",
            "Rango de Consumo         2142\n",
            "Nivel                       0\n",
            "Propiedad Epm               1\n",
            "Compartido                  1\n",
            "Propiedad del Cliente       1\n",
            "Punta                       1\n",
            "Fuera de Punta              1\n",
            "Año                         1\n",
            "Mes                         1\n",
            "dtype: int64\n"
          ]
        }
      ]
    },
    {
      "cell_type": "markdown",
      "source": [
        "## Preprocesamiento\n",
        "Filtrar por cada columna, todos los valores nulos para luego reemplazarlos por la moda de cada columna correspondiente"
      ],
      "metadata": {
        "id": "F5MemnLvnGE7"
      }
    },
    {
      "cell_type": "code",
      "source": [
        "# Para manejar los valores faltantes, puedes eliminar las filas con valores faltantes\n",
        "# data_frame_sin_nulos = data_frame.dropna()\n",
        "\n",
        "# O imputar los valores faltantes con un valor específico, como la media(Promedio) de la columna\n",
        "# data_frame.fillna(data_frame.mean(), inplace=True)\n",
        "# data_frame.fillna(data_frame.median(), inplace=True)\n",
        "data_frame.fillna(data_frame.mode().iloc[0], inplace=True)\n",
        "\n",
        "print(data_frame.isnull().sum())"
      ],
      "metadata": {
        "colab": {
          "base_uri": "https://localhost:8080/"
        },
        "id": "7Sx_sRDbkoDM",
        "outputId": "7ba4ab8d-57e4-4ae0-ccf4-68c4760e78ff"
      },
      "execution_count": 199,
      "outputs": [
        {
          "output_type": "stream",
          "name": "stdout",
          "text": [
            "Tipo de Información      0\n",
            "Tipo de Tarifa           0\n",
            "Tipo de Dato             0\n",
            "Rango de Consumo         0\n",
            "Nivel                    0\n",
            "Propiedad Epm            0\n",
            "Compartido               0\n",
            "Propiedad del Cliente    0\n",
            "Punta                    0\n",
            "Fuera de Punta           0\n",
            "Año                      0\n",
            "Mes                      0\n",
            "dtype: int64\n"
          ]
        }
      ]
    },
    {
      "cell_type": "markdown",
      "source": [
        "## Normalización\n",
        "La normalización es útil cuando las características tienen diferentes escalas y ayuda a tener un impacto mas equitativo en el modelo.\n",
        "\n",
        "En este ejemplo, primero seleccionamos las columnas numéricas que deseamos normalizar y luego creamos un objeto MinMaxScaler. Luego, aplicamos la normalización solo a esas columnas seleccionadas, utilizando la función fit_transform() del objeto MinMaxScaler.\n",
        "\n",
        "Esto asegurará que solo las características numéricas se normalicen, y las columnas no numéricas (como 'Tipo de Información', 'Tipo de Tarifa', etc.) permanecerán sin cambios"
      ],
      "metadata": {
        "id": "VK-PlFV7Rqwu"
      }
    },
    {
      "cell_type": "code",
      "source": [
        "# Seleccionar solo las columnas numéricas para la normalización\n",
        "columnas_numericas = ['Propiedad Epm', 'Compartido', 'Propiedad del Cliente', 'Punta', 'Fuera de Punta', 'Año']\n",
        "\n",
        "# Crear un objeto MinMaxScaler\n",
        "scaler = MinMaxScaler()\n",
        "\n",
        "# Normalizar solo las columnas numéricas\n",
        "data_frame[columnas_numericas] = scaler.fit_transform(data_frame[columnas_numericas])"
      ],
      "metadata": {
        "id": "5xat00AhRpqQ"
      },
      "execution_count": 200,
      "outputs": []
    },
    {
      "cell_type": "markdown",
      "source": [
        "## Separación de pruebas y entrenamiento\n",
        "\n",
        "- X contiene las características del DataFrame data_frame, excluyendo las columnas no numéricas que no se normalizaron.\n",
        "- y contiene las etiquetas que deseas predecir, en este caso, la columna 'Nivel'.\n",
        "- Utilizamos la función train_test_split para dividir X e y en conjuntos de entrenamiento y prueba. Especificamos que el 80% de los datos se utilizarán para entrenamiento (train_size=0.8) y el 20% para pruebas (test_size=0.2).\n",
        "- random_state se establece en un valor específico (en este caso, 42) para garantizar la reproducibilidad de la división."
      ],
      "metadata": {
        "id": "qTMuz6B5U13M"
      }
    },
    {
      "cell_type": "code",
      "source": [
        "# Dividir el DataFrame en características (X) y etiquetas (y)\n",
        "X = data_frame.drop(columns=['Tipo de Información', 'Tipo de Tarifa', 'Tipo de Dato', 'Rango de Consumo', 'Nivel', 'Mes'])\n",
        "y = data_frame['Nivel']  # Suponiendo que 'Nivel' es la columna de etiquetas\n",
        "\n",
        "# Dividir los datos en conjuntos de entrenamiento y prueba (80% entrenamiento, 20% prueba)\n",
        "X_train, X_test, y_train, y_test = train_test_split(X, y, test_size=0.2, random_state=42)\n",
        "\n",
        "# X_train: características de entrenamiento\n",
        "# X_test: características de prueba\n",
        "# y_train: etiquetas de entrenamiento\n",
        "# y_test: etiquetas de prueba\n"
      ],
      "metadata": {
        "id": "hYSeAsd8U7RN"
      },
      "execution_count": 201,
      "outputs": []
    },
    {
      "cell_type": "markdown",
      "source": [
        "## Aplicación del modelo GRADIANT (GBM)\n",
        "\n",
        "- Importamos GradientBoostingClassifier desde sklearn.ensemble.\n",
        "- Creamos una instancia del modelo de Gradient Boosting Classifier llamada gbm_model.\n",
        "- Entrenamos el modelo utilizando el método fit() con los conjuntos de entrenamiento (X_train y y_train).\n",
        "- Realizamos predicciones sobre los datos de prueba utilizando el método predict() con el conjunto de características de prueba (X_test), y guardamos las predicciones en la variable y_pred."
      ],
      "metadata": {
        "id": "0anIsLt3XUGj"
      }
    },
    {
      "cell_type": "code",
      "source": [
        "# Crear el modelo de Gradient Boosting Classifier\n",
        "gbm_model = GradientBoostingClassifier()\n",
        "\n",
        "# Entrenar el modelo con los datos de entrenamiento\n",
        "gbm_model.fit(X_train, y_train)\n",
        "\n",
        "# Realizar predicciones sobre los datos de prueba\n",
        "y_pred = gbm_model.predict(X_test)\n"
      ],
      "metadata": {
        "id": "z6HHAWtAXUmv"
      },
      "execution_count": 202,
      "outputs": []
    },
    {
      "cell_type": "markdown",
      "source": [],
      "metadata": {
        "id": "uKgkyc_hX7cK"
      }
    },
    {
      "cell_type": "code",
      "source": [
        "# Mostrar el reporte de clasificación\n",
        "print(classification_report(y_test, y_pred))\n",
        "\n",
        "# Mostrar la matriz de confusión\n",
        "print(confusion_matrix(y_test, y_pred))"
      ],
      "metadata": {
        "colab": {
          "base_uri": "https://localhost:8080/"
        },
        "id": "rojPblPwX72N",
        "outputId": "ea363409-ff7d-491a-973e-9fac3976f789"
      },
      "execution_count": 203,
      "outputs": [
        {
          "output_type": "stream",
          "name": "stdout",
          "text": [
            "              precision    recall  f1-score   support\n",
            "\n",
            "           I       1.00      1.00      1.00       421\n",
            "          II       0.51      0.45      0.48       104\n",
            "         III       0.46      0.51      0.48       109\n",
            "          IV       0.40      0.40      0.40        91\n",
            "\n",
            "    accuracy                           0.77       725\n",
            "   macro avg       0.59      0.59      0.59       725\n",
            "weighted avg       0.77      0.77      0.77       725\n",
            "\n",
            "[[421   0   0   0]\n",
            " [  0  47  33  24]\n",
            " [  0  24  56  29]\n",
            " [  0  21  34  36]]\n"
          ]
        }
      ]
    },
    {
      "cell_type": "markdown",
      "source": [
        "## METRICAS"
      ],
      "metadata": {
        "id": "_k_kXewia8cK"
      }
    },
    {
      "cell_type": "markdown",
      "source": [
        "### **Precisión (Precision)**\n",
        "\n",
        "La precisión se define como la proporción de las predicciones positivas correctas (verdaderos positivos) respecto al total de predicciones positivas (verdaderos positivos más falsos positivos). En otras palabras, la precisión mide la calidad de las predicciones positivas realizadas por el modelo.\n",
        "\n",
        "- Para la clase \"I\", la precisión es del 100%. Esto significa que todas las predicciones positivas para la clase \"I\" fueron correctas.\n",
        "- Para la clase \"II\", la precisión es del 51%. Esto indica que aproximadamente la mitad de las predicciones positivas para la clase \"II\" fueron correctas.\n",
        "- Para la clase \"III\", la precisión es del 46%. Esto significa que alrededor del 46% de las predicciones positivas para la clase \"III\" fueron correctas.\n",
        "- Para la clase \"IV\", la precisión es del 40%. Esto indica que aproximadamente el 40% de las predicciones positivas para la clase \"IV\" fueron correctas."
      ],
      "metadata": {
        "id": "eIN054HvZL6D"
      }
    },
    {
      "cell_type": "markdown",
      "source": [
        "### Recall (Sensibilidad)\n",
        "El recall se define como la proporción de las predicciones positivas correctas (verdaderos positivos) respecto al total de casos positivos en los datos de prueba (verdaderos positivos más falsos negativos). En otras palabras, el recall mide la capacidad del modelo para encontrar todos los casos positivos.\n",
        "\n",
        "- Para la clase \"I\", el recall es del 100%. Esto significa que el modelo identificó correctamente todos los casos positivos de la clase \"I\".\n",
        "- Para la clase \"II\", el recall es del 45%. Esto indica que el modelo identificó aproximadamente el 45% de los casos positivos de la clase \"II\".\n",
        "- Para la clase \"III\", el recall es del 51%. Esto significa que el modelo identificó aproximadamente el 51% de los casos positivos de la clase \"III\".\n",
        "- Para la clase \"IV\", el recall es del 40%. Esto indica que el modelo identificó aproximadamente el 40% de los casos positivos de la clase \"IV\"."
      ],
      "metadata": {
        "id": "s9V-g5qybUZW"
      }
    },
    {
      "cell_type": "markdown",
      "source": [
        "### F1-Score\n",
        "El puntaje F1 es la media armónica de precisión y recall. Proporciona un equilibrio entre ambas métricas y es útil cuando hay un desequilibrio entre las clases. Un puntaje F1 alto indica tanto una alta precisión como un alto recall."
      ],
      "metadata": {
        "id": "6WasVIVlbJuM"
      }
    },
    {
      "cell_type": "markdown",
      "source": [
        "### Matriz de Confusión\n",
        "La matriz de confusión es una tabla que muestra las cantidades de verdaderos positivos, verdaderos negativos, falsos positivos y falsos negativos para cada clase. Es una herramienta útil para entender dónde el modelo está teniendo problemas en la clasificación.\n",
        "\n",
        "- La diagonal principal de la matriz de confusión muestra los verdaderos positivos para cada clase.\n",
        "- Los valores fuera de la diagonal principal representan los falsos positivos (en las columnas) y los falsos negativos (en las filas).\n",
        "- Por ejemplo, la celda en la fila \"II\" y la columna \"III\" indica que hay 33 falsos positivos para la clase \"II\" que fueron clasificados incorrectamente como clase \"III\"."
      ],
      "metadata": {
        "id": "ZRMXjK6jblxN"
      }
    },
    {
      "cell_type": "markdown",
      "source": [
        "## PRUEBA DE PREDECIR Y COMPARAR\n",
        "\n",
        "En cada línea, se muestran los datos reales y las predicciones correspondientes realizadas por el modelo.\n",
        "\n",
        "**Datos reales:** Se refiere a las etiquetas reales de los ejemplos seleccionados del conjunto de prueba.\n",
        "\n",
        "**Predicción:** Se refiere a las etiquetas predichas por el modelo para esos mismos ejemplos.\n",
        "Por ejemplo:\n",
        "\n",
        "- En la primera línea, el dato real era de la clase \"III\", pero el modelo predijo la clase \"II\".\n",
        "- En la segunda línea, tanto el dato real como la predicción fueron de la clase \"II\", lo que indica una predicción correcta.\n",
        "- En la tercera línea, el dato real era de la clase \"IV\", pero el modelo predijo la clase \"III\".\n",
        "\n",
        "\n",
        "Al observar estas comparaciones entre los datos reales y las predicciones, puedes evaluar la precisión del modelo en estos casos individuales. Una coincidencia entre el dato real y la predicción indica una predicción correcta, mientras que una discrepancia indica un error en la predicción."
      ],
      "metadata": {
        "id": "ovcFIMxxcTh0"
      }
    },
    {
      "cell_type": "code",
      "source": [
        "# Seleccionar un grupo de datos para predecir\n",
        "X_prueba = X_test[:25]\n",
        "y_prueba_real = y_test[:25]\n",
        "\n",
        "# Realizar predicciones con el modelo\n",
        "y_prueba_pred = gbm_model.predict(X_prueba)\n",
        "\n",
        "# Comparar las predicciones con las etiquetas reales\n",
        "for i in range(len(y_prueba_real)):\n",
        "    print(f\"Datos reales: {y_prueba_real.iloc[i]} - Predicción: {y_prueba_pred[i]}\")\n"
      ],
      "metadata": {
        "colab": {
          "base_uri": "https://localhost:8080/"
        },
        "id": "Tq_pq-QwcYoh",
        "outputId": "98e67cca-4f3a-4ff5-e2a4-ed9cdfcaf589"
      },
      "execution_count": 204,
      "outputs": [
        {
          "output_type": "stream",
          "name": "stdout",
          "text": [
            "Datos reales: III - Predicción: II\n",
            "Datos reales: II - Predicción: II\n",
            "Datos reales: IV - Predicción: III\n",
            "Datos reales: II - Predicción: IV\n",
            "Datos reales: I - Predicción: I\n",
            "Datos reales: I - Predicción: I\n",
            "Datos reales: III - Predicción: IV\n",
            "Datos reales: IV - Predicción: II\n",
            "Datos reales: III - Predicción: IV\n",
            "Datos reales: II - Predicción: III\n",
            "Datos reales: III - Predicción: III\n",
            "Datos reales: I - Predicción: I\n",
            "Datos reales: II - Predicción: III\n",
            "Datos reales: II - Predicción: III\n",
            "Datos reales: I - Predicción: I\n",
            "Datos reales: I - Predicción: I\n",
            "Datos reales: IV - Predicción: IV\n",
            "Datos reales: I - Predicción: I\n",
            "Datos reales: I - Predicción: I\n",
            "Datos reales: I - Predicción: I\n",
            "Datos reales: II - Predicción: II\n",
            "Datos reales: I - Predicción: I\n",
            "Datos reales: III - Predicción: IV\n",
            "Datos reales: II - Predicción: III\n",
            "Datos reales: IV - Predicción: III\n"
          ]
        }
      ]
    }
  ]
}